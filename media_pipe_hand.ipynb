{
 "cells": [
  {
   "cell_type": "code",
   "execution_count": 99,
   "metadata": {
    "scrolled": true
   },
   "outputs": [
    {
     "name": "stdout",
     "output_type": "stream",
     "text": [
      "['paper1.png', 'paper2.png', 'paper3.png', 'paper4.png', 'paper5.png', 'paper6.png', 'paper7.png', 'paper8.png', 'paper9.png', 'paper10.png', 's1.png', 's2.png', 's3.png', 's4.png', 's5.png', 's6.png', 's7.png', 's8.png', 's9.png', 's10.png', 'r1.png', 'r2.png', 'r3.png', 'r4.png', 'r5.png', 'r6.png', 'r7.png', 'r8.png', 'r9.png', 'r10.png']\n",
      "30\n",
      "[0, 0, 0, 0, 0, 0, 0, 0, 0, 0, 1, 1, 1, 1, 1, 1, 1, 1, 1, 1, 2, 2, 2, 2, 2, 2, 2, 2, 2, 2]\n"
     ]
    }
   ],
   "source": [
    "import cv2\n",
    "import mediapipe as mp\n",
    "import numpy as np\n",
    "mp_drawing = mp.solutions.drawing_utils\n",
    "mp_hands = mp.solutions.hands\n",
    "\n",
    "# For static images:\n",
    "hands = mp_hands.Hands(\n",
    "    static_image_mode=True,\n",
    "    max_num_hands=2,\n",
    "    min_detection_confidence=0.5)\n",
    "\n",
    "names = [\"paper\", \"s\", \"r\"]\n",
    "file_list = []\n",
    "result = []\n",
    "\n",
    "for i in names:\n",
    "    for j in range(1,11):\n",
    "        file_list.append(i + str(j) + \".png\")\n",
    "        \n",
    "print(file_list)\n",
    "\n",
    "for idx, file in enumerate(file_list):\n",
    "    # Read an image, flip it around y-axis for correct handedness output (see\n",
    "    # above).\n",
    "    image = cv2.flip(cv2.imread(file), 1)\n",
    "    # Convert the BGR image to RGB before processing.\n",
    "    results = hands.process(cv2.cvtColor(image, cv2.COLOR_BGR2RGB))\n",
    "\n",
    "    if not results.multi_hand_landmarks:\n",
    "        continue\n",
    "\n",
    "\n",
    "    image_hight, image_width, _ = image.shape\n",
    "    annotated_image = image.copy()\n",
    "    \n",
    "    output = []\n",
    "\n",
    "    for hand_landmarks in results.multi_hand_landmarks:\n",
    "        for item in hand_landmarks.landmark:\n",
    "            output.append(item.x)\n",
    "            output.append(item.y)\n",
    "            output.append(item.z)\n",
    "            \n",
    "    result.append(output)\n",
    "    \n",
    "print(len(result))\n",
    "\n",
    "hands.close()\n",
    "\n",
    "\n",
    "answer = []\n",
    "\n",
    "for i in range(3):\n",
    "    for j in range(10):\n",
    "        answer.append(i)\n",
    "        \n",
    "print(answer)\n",
    "        \n",
    "\n"
   ]
  },
  {
   "cell_type": "code",
   "execution_count": 89,
   "metadata": {},
   "outputs": [
    {
     "name": "stdout",
     "output_type": "stream",
     "text": [
      "30\n"
     ]
    }
   ],
   "source": [
    "X_train = np.transpose(result)\n",
    "y_train = answer\n",
    "\n",
    "inverse = np.linalg.inv(np.matmul(X_train,np.transpose(X_train)))\n",
    "rest = np.matmul(y_train,np.transpose(X_train))\n",
    "W = np.matmul(rest,inverse)"
   ]
  },
  {
   "cell_type": "code",
   "execution_count": 95,
   "metadata": {},
   "outputs": [
    {
     "name": "stdout",
     "output_type": "stream",
     "text": [
      "[0.639760434627533, 0.9432742595672607, -5.623567631118931e-05, 0.5615952014923096, 0.9205619096755981, -0.06486814469099045, 0.5049196481704712, 0.821433961391449, -0.1044342964887619, 0.4593830108642578, 0.7395621538162231, -0.14419177174568176, 0.4043196439743042, 0.6869999170303345, -0.19150960445404053, 0.5867246389389038, 0.5903041958808899, -0.07104944437742233, 0.5713372826576233, 0.43609559535980225, -0.1146368458867073, 0.5679851770401001, 0.33554524183273315, -0.14651647210121155, 0.5713405013084412, 0.24712252616882324, -0.16428181529045105, 0.6450538635253906, 0.5833573341369629, -0.07054443657398224, 0.6590964794158936, 0.41053301095962524, -0.09737567603588104, 0.671185314655304, 0.3036021888256073, -0.13186204433441162, 0.6856508255004883, 0.2103293538093567, -0.15552516281604767, 0.6940513253211975, 0.6162441372871399, -0.07267770171165466, 0.7200053334236145, 0.4525279402732849, -0.1060730442404747, 0.7376095652580261, 0.34814488887786865, -0.14292049407958984, 0.751701295375824, 0.2592829167842865, -0.16995024681091309, 0.7386183142662048, 0.6836987733840942, -0.08106285333633423, 0.7843589186668396, 0.5916488766670227, -0.12052340060472488, 0.8164512515068054, 0.534904420375824, -0.1516748070716858, 0.845095157623291, 0.4800875186920166, -0.17615626752376556]\n"
     ]
    }
   ],
   "source": [
    "mp_drawing = mp.solutions.drawing_utils\n",
    "mp_hands = mp.solutions.hands\n",
    "\n",
    "# For static images:\n",
    "hands = mp_hands.Hands(\n",
    "    static_image_mode=True,\n",
    "    max_num_hands=2,\n",
    "    min_detection_confidence=0.5)\n",
    "\n",
    "\n",
    "\n",
    "test = \"test.png\"\n",
    "image = cv2.flip(cv2.imread(test), 1)\n",
    "# Convert the BGR image to RGB before processing.\n",
    "results = hands.process(cv2.cvtColor(image, cv2.COLOR_BGR2RGB))\n",
    "\n",
    "\n",
    "image_hight, image_width, _ = image.shape\n",
    "annotated_image = image.copy()\n",
    "\n",
    "output2 = []\n",
    "\n",
    "for hand_landmarks in results.multi_hand_landmarks:\n",
    "    for item in hand_landmarks.landmark:\n",
    "        output2.append(item.x)\n",
    "        output2.append(item.y)\n",
    "        output2.append(item.z)\n",
    "\n",
    "print(output2)"
   ]
  },
  {
   "cell_type": "code",
   "execution_count": 97,
   "metadata": {},
   "outputs": [
    {
     "name": "stdout",
     "output_type": "stream",
     "text": [
      "0.0\n"
     ]
    }
   ],
   "source": [
    "output_test = np.transpose(output2)\n",
    "res1 = np.round(np.matmul(np.transpose(W),output_test))\n",
    "\n",
    "print(res1)"
   ]
  },
  {
   "cell_type": "code",
   "execution_count": null,
   "metadata": {},
   "outputs": [],
   "source": []
  }
 ],
 "metadata": {
  "kernelspec": {
   "display_name": "Python 3",
   "language": "python",
   "name": "python3"
  },
  "language_info": {
   "codemirror_mode": {
    "name": "ipython",
    "version": 3
   },
   "file_extension": ".py",
   "mimetype": "text/x-python",
   "name": "python",
   "nbconvert_exporter": "python",
   "pygments_lexer": "ipython3",
   "version": "3.8.5"
  }
 },
 "nbformat": 4,
 "nbformat_minor": 4
}
